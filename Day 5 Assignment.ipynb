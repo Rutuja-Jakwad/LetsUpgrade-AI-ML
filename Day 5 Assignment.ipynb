{
 "cells": [
  {
   "cell_type": "code",
   "execution_count": null,
   "metadata": {},
   "outputs": [],
   "source": [
    "Write a Python program to find the first 20 non-even prime natural numbers."
   ]
  },
  {
   "cell_type": "code",
   "execution_count": 13,
   "metadata": {},
   "outputs": [
    {
     "name": "stdout",
     "output_type": "stream",
     "text": [
      "1 3 5 7 9 11 13 15 17 19 "
     ]
    }
   ],
   "source": [
    "for i in range(1,21):\n",
    "    flag=0\n",
    "    for j in range(2,i//+1):\n",
    "        if j%i==0:\n",
    "            flag=1\n",
    "            break\n",
    "    if flag!=1:\n",
    "        if i%2!=0:\n",
    "            print(i,end=\" \")\n",
    "    \n",
    "                    \n"
   ]
  },
  {
   "cell_type": "code",
   "execution_count": null,
   "metadata": {},
   "outputs": [],
   "source": [
    "Write a Python program to implement 15 functions of string.\n"
   ]
  },
  {
   "cell_type": "code",
   "execution_count": 2,
   "metadata": {
    "scrolled": true
   },
   "outputs": [
    {
     "name": "stdout",
     "output_type": "stream",
     "text": [
      "Hello RutujaElectronics and Telecommunication\n",
      "hello rutuja\n",
      "HELLO RUTUJA\n",
      "<built-in method swapcase of str object at 0x000002E5BEE9CDF0>\n",
      "<built-in method isalpha of str object at 0x000002E5BEE9CDF0>\n",
      "Heppo Rutuja\n",
      "33\n"
     ]
    }
   ],
   "source": [
    "t1=\"Hello Rutuja\"\n",
    "t2=\"Electronics and Telecommunication\"\n",
    "print(t1+t2)\n",
    "print(t1.lower())\n",
    "print(t1.upper())\n",
    "print(t1.swapcase)\n",
    "print(t1.isalpha)\n",
    "print(t1.replace('l','p'))\n",
    "print(len(t2))"
   ]
  },
  {
   "cell_type": "code",
   "execution_count": null,
   "metadata": {},
   "outputs": [],
   "source": [
    "Write a Python program to check if the given string is a Palindrome or Anagram or None of them.\n",
    "Display the message accordingly to the user.\n"
   ]
  },
  {
   "cell_type": "code",
   "execution_count": 26,
   "metadata": {},
   "outputs": [
    {
     "name": "stdout",
     "output_type": "stream",
     "text": [
      "Enter any number :55\n",
      "The given number is PALINDROME\n"
     ]
    }
   ],
   "source": [
    "num=input('Enter any number :')\n",
    "try:\n",
    "    val=int(num)\n",
    "    if num==str(num)[::-1]:\n",
    "        print('The given number is PALINDROME')\n",
    "    else:\n",
    "        print('The given number is ANAGRAM ')\n",
    "except ValueError:\n",
    "    print(\"Thats not a valid number,Try Again!\")"
   ]
  },
  {
   "cell_type": "code",
   "execution_count": null,
   "metadata": {},
   "outputs": [],
   "source": [
    "Write a Python's user defined function that removes all the additional characters from the string\n",
    "and converts it finally to lower case using built-in lower(). eg: If the string is \"Dr. Darshan Ingle\n",
    "@AI-ML Trainer\", then the output be \"drdarshaningleaimltrainer\"."
   ]
  },
  {
   "cell_type": "code",
   "execution_count": 25,
   "metadata": {},
   "outputs": [
    {
     "name": "stdout",
     "output_type": "stream",
     "text": [
      "dr darshan ingle @ai-ml trainer\n"
     ]
    }
   ],
   "source": [
    "s=\"Dr. Darshan Ingle @AI-ML Trainer\"\n",
    "def abc(str):\n",
    "    sp=['.','@']\n",
    "    for i in sp:\n",
    "        s=str.replace(i,'')\n",
    "        return s\n",
    "s=abc(\"Dr. Darshan Ingle @AI-ML Trainer\")\n",
    "print(s.lower().strip())"
   ]
  },
  {
   "cell_type": "code",
   "execution_count": null,
   "metadata": {},
   "outputs": [],
   "source": []
  }
 ],
 "metadata": {
  "kernelspec": {
   "display_name": "Python 3",
   "language": "python",
   "name": "python3"
  },
  "language_info": {
   "codemirror_mode": {
    "name": "ipython",
    "version": 3
   },
   "file_extension": ".py",
   "mimetype": "text/x-python",
   "name": "python",
   "nbconvert_exporter": "python",
   "pygments_lexer": "ipython3",
   "version": "3.7.6"
  }
 },
 "nbformat": 4,
 "nbformat_minor": 4
}
